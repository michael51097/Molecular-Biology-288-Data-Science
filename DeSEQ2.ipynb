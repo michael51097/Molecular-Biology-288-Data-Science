{
 "cells": [
  {
   "cell_type": "code",
   "execution_count": 7,
   "id": "327249a2",
   "metadata": {},
   "outputs": [
    {
     "name": "stderr",
     "output_type": "stream",
     "text": [
      "'getOption(\"repos\")' replaces Bioconductor standard repositories, see\n",
      "'?repositories' for details\n",
      "\n",
      "replacement repositories:\n",
      "    CRAN: https://packagemanager.rstudio.com/all/__linux__/focal/latest\n",
      "\n",
      "\n",
      "Bioconductor version 3.14 (BiocManager 1.30.16), R 4.1.2 (2021-11-01)\n",
      "\n",
      "Installing package(s) 'DESeq2'\n",
      "\n",
      "also installing the dependencies ‘formatR’, ‘Biostrings’, ‘GenomeInfoDbData’, ‘zlibbioc’, ‘lambda.r’, ‘futile.options’, ‘KEGGREST’, ‘GenomeInfoDb’, ‘XVector’, ‘MatrixGenerics’, ‘DelayedArray’, ‘futile.logger’, ‘snow’, ‘AnnotationDbi’, ‘annotate’, ‘S4Vectors’, ‘IRanges’, ‘GenomicRanges’, ‘SummarizedExperiment’, ‘BiocParallel’, ‘genefilter’, ‘locfit’, ‘geneplotter’, ‘RcppArmadillo’\n",
      "\n",
      "\n",
      "Warning message in .inet_warning(msg):\n",
      "“installation of package ‘DESeq2’ had non-zero exit status”\n",
      "Installation paths not writeable, unable to update packages\n",
      "  path: /usr/lib/R/site-library\n",
      "  packages:\n",
      "    littler\n",
      "\n",
      "Old packages: 'arrow', 'blob', 'blogdown', 'bookdown', 'broom', 'dagitty',\n",
      "  'dtplyr', 'estimatr', 'fdrtool', 'fivethirtyeight', 'fst', 'future',\n",
      "  'gdtools', 'geosphere', 'gert', 'ggthemes', 'git2r', 'googlesheets4',\n",
      "  'gstat', 'haven', 'hdf5r', 'igraph', 'imager', 'IRkernel', 'kableExtra',\n",
      "  'Lahman', 'latex2exp', 'leafem', 'lfe', 'lme4', 'magrittr', 'mapproj',\n",
      "  'maptools', 'mapview', 'margins', 'mgcv', 'multcomp', 'NMF', 'nycflights13',\n",
      "  'openintro', 'ottr', 'parallelly', 'pdftools', 'pegas', 'plotly', 'proj4',\n",
      "  'RandomFieldsUtils', 'randomForest', 'RColorBrewer', 'RcppEigen', 'redland',\n",
      "  'reshape', 'reticulate', 'rgdal', 'rgeos', 'rgl', 'rjags', 'rJava', 'rjson',\n",
      "  'rlas', 'rlist', 'RMariaDB', 'rpart', 'rpart.plot', 'RPostgres', 'rprojroot',\n",
      "  'rsconnect', 'RSQLite', 'rticles', 'scales', 'segmented', 'shape',\n",
      "  'showtext', 'spatialreg', 'spatstat', 'spatstat.data', 'spdep', 'splancs',\n",
      "  'stargazer', 'summarytools', 'testit', 'testthat', 'tidycensus', 'tidyverse',\n",
      "  'tmap', 'tufte', 'vctrs', 'vegan', 'vioplot', 'webshot', 'xaringan',\n",
      "  'xaringanthemer', 'zoo'\n",
      "\n"
     ]
    },
    {
     "ename": "ERROR",
     "evalue": "Error in library(\"DESeq2\"): there is no package called ‘DESeq2’\n",
     "output_type": "error",
     "traceback": [
      "Error in library(\"DESeq2\"): there is no package called ‘DESeq2’\nTraceback:\n",
      "1. library(\"DESeq2\")"
     ]
    }
   ],
   "source": [
    "BiocManager::install(\"DESeq2\")\n",
    "library(\"DESeq2\")"
   ]
  },
  {
   "cell_type": "code",
   "execution_count": 6,
   "id": "300da229",
   "metadata": {},
   "outputs": [
    {
     "ename": "ERROR",
     "evalue": "Error in parse(text = x, srcfile = src): <text>:1:18: unexpected input\n1: install.packages(“\n                     ^\n",
     "output_type": "error",
     "traceback": [
      "Error in parse(text = x, srcfile = src): <text>:1:18: unexpected input\n1: install.packages(“\n                     ^\nTraceback:\n"
     ]
    }
   ],
   "source": [
    "install.packages(“DESeq2”)\n"
   ]
  },
  {
   "cell_type": "code",
   "execution_count": 4,
   "id": "fe3424d5",
   "metadata": {},
   "outputs": [
    {
     "ename": "ERROR",
     "evalue": "Error in parse(text = x, srcfile = src): <text>:1:7: unexpected symbol\n1: conda config\n          ^\n",
     "output_type": "error",
     "traceback": [
      "Error in parse(text = x, srcfile = src): <text>:1:7: unexpected symbol\n1: conda config\n          ^\nTraceback:\n"
     ]
    }
   ],
   "source": [
    "conda config --add channels defaults\n",
    "conda config --add channels bioconda\n",
    "conda config --add channels conda-forge "
   ]
  },
  {
   "cell_type": "code",
   "execution_count": 5,
   "id": "72660869",
   "metadata": {},
   "outputs": [
    {
     "name": "stderr",
     "output_type": "stream",
     "text": [
      "Warning message in system(\"ls `R RHOME`/library | grep 00LOC\", intern = TRUE):\n",
      "“running command 'ls `R RHOME`/library | grep 00LOC' had status 1”\n"
     ]
    },
    {
     "data": {
      "text/html": [],
      "text/latex": [],
      "text/markdown": [],
      "text/plain": [
       "character(0)\n",
       "attr(,\"status\")\n",
       "[1] 1\n",
       "attr(,\"errmsg\")\n",
       "[1] \"Resource temporarily unavailable\""
      ]
     },
     "metadata": {},
     "output_type": "display_data"
    }
   ],
   "source": [
    "system(\"ls `R RHOME`/library | grep 00LOC\", intern=TRUE)\n"
   ]
  },
  {
   "cell_type": "code",
   "execution_count": null,
   "id": "de1bbdcf",
   "metadata": {},
   "outputs": [],
   "source": []
  }
 ],
 "metadata": {
  "kernelspec": {
   "display_name": "R",
   "language": "R",
   "name": "ir"
  },
  "language_info": {
   "codemirror_mode": "r",
   "file_extension": ".r",
   "mimetype": "text/x-r-source",
   "name": "R",
   "pygments_lexer": "r",
   "version": "4.1.2"
  }
 },
 "nbformat": 4,
 "nbformat_minor": 5
}
