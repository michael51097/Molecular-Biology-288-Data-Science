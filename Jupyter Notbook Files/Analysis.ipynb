{
 "cells": [
  {
   "cell_type": "markdown",
   "id": "f97121b0",
   "metadata": {},
   "source": [
    "I am going to cluster all the different types of cancer that have multiple\n",
    "\n",
    "Lung: LUSC, LUAD\n",
    "colon: sigmoid, transverse\n",
    "kidney: kirc,kirp,kich\n",
    "- GOing to PCA 50 samples from each\n",
    "\n",
    "\n",
    "look at PCA metrics: explained variance and factor loading\n",
    "- identify what genes explain or are along the components\n",
    "\n",
    "\n",
    "Then do k-means clustering\n",
    "clustering metrics: Average distance from centroid\n",
    "\n",
    "\n",
    "#Do validation, in terms of does this follow the literature\n",
    "#possibly do \n"
   ]
  },
  {
   "cell_type": "code",
   "execution_count": null,
   "id": "4fba3404",
   "metadata": {},
   "outputs": [],
   "source": [
    "kirprsemfpkmtcgat.txt\n",
    "kircrsemfpkmtcgat.txt\n",
    "kichrsemfpkmtcgat.txt\n",
    "\n",
    "readrsemfpkmtcgat.txt\n",
    "coadrsemfpkmtcgat.txt"
   ]
  },
  {
   "cell_type": "code",
   "execution_count": null,
   "id": "7b8033e4",
   "metadata": {},
   "outputs": [],
   "source": [
    "#download colon data\n",
    "import pandas as pd\n",
    "import os\n",
    "import matplotlib.pyplot as plt\n",
    "import numpy as np\n",
    "\n",
    "\n",
    "luad = pd.read_csv('luadrsemfpkmtcga_tumor.txt',sep='\\t')\n",
    "\n",
    "lusc = pd.read_csv('luscrsemfpkmtcga_tumor.txt',sep='\\t')\n",
    "\n",
    "\n",
    "#take sample of 50 from each dataset\n",
    "luad_sub = luad.copy().iloc[:,2:52]\n",
    "\n",
    "lusc_sub = lusc.copy().iloc[:,2:52]\n",
    "\n",
    "\n",
    "#convert from FPKM to TPM\n",
    "luad_tpm = luad_sub.copy().div(luad_sub.sum(axis=0), axis=1)*1000000\n",
    "lusc_tpm = lusc_sub.copy().div(lusc_sub.sum(axis=0), axis=1)*1000000\n",
    "\n",
    "\n",
    "\n",
    "#join the two dataset together\n",
    "luad_lusc = pd.concat((luad_tpm, lusc_tpm), axis=1)\n",
    "\n",
    "#transpose\n",
    "luad_lusc_np = luad_lusc.T.to_numpy()\n",
    "\n",
    "#replace dropout events with very small expression\n",
    "luad_lusc_np[luad_lusc_np == 0] = 0.01\n",
    "\n",
    "#normalize\n",
    "luad_lusc_np = normalize_data(luad_lusc_np.copy())\n"
   ]
  },
  {
   "cell_type": "code",
   "execution_count": null,
   "id": "09edcc92",
   "metadata": {
    "slideshow": {
     "slide_type": "fragment"
    }
   },
   "outputs": [],
   "source": [
    "#PCA\n",
    "from sklearn.decomposition import PCA\n",
    "pca = PCA(n_components=2)\n",
    "principalComponents = pca.fit_transform(luad_lusc_np)\n",
    "principalDf = pd.DataFrame(data = principalComponents\n",
    "             , columns = ['principal component 1', 'principal component 2'])\n",
    "\n",
    "luad_or_lusc = []\n",
    "\n",
    "for i in range(0,100):\n",
    "    if i < 50:\n",
    "        luad_or_lusc.append('LUAD')\n",
    "    else:\n",
    "        luad_or_lusc.append('LUSC')\n",
    "\n",
    "luad_lusc.columns.tolist()\n",
    "\n",
    "sample_info = pd.DataFrame(list(zip(luad_lusc.columns.tolist(), luad_or_lusc)),columns = ['IDs','LUAD_or_LUSC'])\n"
   ]
  },
  {
   "cell_type": "code",
   "execution_count": null,
   "id": "1dea2fad",
   "metadata": {},
   "outputs": [],
   "source": [
    "#plot the PCA\n",
    "finalDf = pd.concat([principalDf, sample_info.reset_index()[['LUAD_or_LUSC']]], axis = 1)\n",
    "\n",
    "fig = plt.figure(figsize = (8,8))\n",
    "ax = fig.add_subplot(1,1,1) \n",
    "ax.set_xlabel('Principal Component 1', fontsize = 15)\n",
    "ax.set_ylabel('Principal Component 2', fontsize = 15)\n",
    "ax.set_title('2 component PCA', fontsize = 20)\n",
    "targets = ['LUAD', 'LUSC']\n",
    "colors = ['r', 'g']\n",
    "\n",
    "for target, color in zip(targets,colors):\n",
    "    indicesToKeep = finalDf['LUAD_or_LUSC'] == target\n",
    "    ax.scatter(finalDf.loc[indicesToKeep, 'principal component 1']\n",
    "               , finalDf.loc[indicesToKeep, 'principal component 2']\n",
    "               , c = color\n",
    "               , s = 50)\n",
    "ax.legend(targets)\n",
    "ax.grid()\n"
   ]
  },
  {
   "cell_type": "code",
   "execution_count": null,
   "id": "df3de718",
   "metadata": {},
   "outputs": [],
   "source": [
    "#PCA metrics\n",
    "#look at PCA metrics: explained variance and factor loading\n",
    "#- identify what genes explain or are along the components\n",
    "\n",
    "\n"
   ]
  },
  {
   "cell_type": "code",
   "execution_count": null,
   "id": "7a53995e",
   "metadata": {},
   "outputs": [],
   "source": [
    "#Then do k-means clustering\n",
    "#clustering metrics: Average distance from centroid\n",
    "\n",
    "\n"
   ]
  },
  {
   "cell_type": "code",
   "execution_count": null,
   "id": "3d571c81",
   "metadata": {},
   "outputs": [],
   "source": [
    "\n",
    "\n",
    "\n",
    "\n",
    "\n"
   ]
  }
 ],
 "metadata": {
  "kernelspec": {
   "display_name": "Python 3 (ipykernel)",
   "language": "python",
   "name": "python3"
  },
  "language_info": {
   "codemirror_mode": {
    "name": "ipython",
    "version": 3
   },
   "file_extension": ".py",
   "mimetype": "text/x-python",
   "name": "python",
   "nbconvert_exporter": "python",
   "pygments_lexer": "ipython3",
   "version": "3.9.12"
  }
 },
 "nbformat": 4,
 "nbformat_minor": 5
}
