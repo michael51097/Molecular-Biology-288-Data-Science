{
 "cells": [
  {
   "cell_type": "code",
   "execution_count": null,
   "id": "208a0f4d",
   "metadata": {},
   "outputs": [],
   "source": [
    "#make classifiers for each SVM and randomforest\n",
    "\n",
    "\n",
    "\n",
    "x_total = finalDF_output[['principal component 1','principal component 2']]\n",
    "y_total = finalDF_output[['Cancer_or_healthy']]\n",
    "\n",
    "\n",
    "x_select = select_finalDF_output[['principal component 1','principal component 2']]\n",
    "y_select = select_finalDF_output[['Cancer_or_healthy']]\n",
    "\n",
    "\n",
    "from sklearn.model_selection import train_test_split\n",
    "x_total_train, x_total_test, y_total_train, y_total_test = train_test_split(x_total,y_total,test_size = 0.3,random_state=0)\n",
    "\n",
    "\n",
    "x_select_train, x_select_test, y_select_train, y_select_test = train_test_split(x_select,y_select,test_size = 0.3,random_state=0)\n",
    "\n",
    "\n",
    "\n"
   ]
  },
  {
   "cell_type": "code",
   "execution_count": null,
   "id": "9a753d51",
   "metadata": {},
   "outputs": [],
   "source": [
    "def random_forest(x_train,x_test,y_train,y_test):\n",
    "    from sklearn import ensemble\n",
    "    rf_clf = ensemble.RandomForestClassifier(n_estimators=100)\n",
    "    rf_clf.fit(x_train,y_train.values.ravel())\n",
    "    return rf_clf.score(x_test,y_test)\n",
    "    \n",
    "def svm(x_train,x_test,y_train,y_test):\n",
    "    from sklearn.svm import SVC\n",
    "    sv_clf = SVC(probability=True,kernel='linear')\n",
    "    sv_clf.fit(x_train,y_train.values.ravel())\n",
    "    return sv_clf.score(x_test,y_test)\n",
    "    "
   ]
  },
  {
   "cell_type": "code",
   "execution_count": null,
   "id": "2fc1e341",
   "metadata": {},
   "outputs": [],
   "source": [
    "\n",
    "print('Random forest: Total')\n",
    "print(random_forest(x_total_train, x_total_test, y_total_train, y_total_test))\n",
    "print('Random forest: Select') \n",
    "print(random_forest(x_select_train, x_select_test, y_select_train, y_select_test))\n",
    "\n",
    "print('SVM: Total') \n",
    "print(svm(x_total_train, x_total_test, y_total_train, y_total_test))\n",
    "print('SVM: Select')\n",
    "print(svm(x_select_train, x_select_test, y_select_train, y_select_test))\n",
    "\n"
   ]
  }
 ],
 "metadata": {
  "kernelspec": {
   "display_name": "Python 3 (ipykernel)",
   "language": "python",
   "name": "python3"
  },
  "language_info": {
   "codemirror_mode": {
    "name": "ipython",
    "version": 3
   },
   "file_extension": ".py",
   "mimetype": "text/x-python",
   "name": "python",
   "nbconvert_exporter": "python",
   "pygments_lexer": "ipython3",
   "version": "3.9.12"
  }
 },
 "nbformat": 4,
 "nbformat_minor": 5
}
